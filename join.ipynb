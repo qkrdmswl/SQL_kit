{
 "cells": [
  {
   "cell_type": "markdown",
   "metadata": {},
   "source": [
    "### 프로그래머스 SQL 고득점 KIT - JOIN"
   ]
  },
  {
   "cell_type": "markdown",
   "metadata": {},
   "source": [
    "### *Join : 교집합 "
   ]
  },
  {
   "cell_type": "markdown",
   "metadata": {},
   "source": [
    "#### 1. 없어진 기록 찾기\n",
    "##### Q. 천재지변으로 인해 일부 데이터가 유실되었습니다. <br> 입양을 간 기록은 있는데, 보호소에 들어온 기록이 없는 동물의 ID와 이름을 ID 순으로 조회하는 SQL문을 작성해주세요."
   ]
  },
  {
   "cell_type": "markdown",
   "metadata": {},
   "source": [
    "SELECT O.ANIMAL_ID, O.NAME <br>\n",
    "FROM ANIMAL_OUTS O LEFT JOIN ANIMAL_INS I ON O.ANIMAL_ID = I.ANIMAL_ID <br>\n",
    "WHERE I.ANIMAL_ID is null <br>\n",
    "ORDER BY O.ANIMAL_ID ASC;"
   ]
  },
  {
   "cell_type": "markdown",
   "metadata": {},
   "source": [
    "#### 2. 있었는데요 없었습니다.\n",
    "##### Q. 관리자의 실수로 일부 동물의 입양일이 잘못 입력되었습니다.  <br> 보호 시작일보다 입양일이 더 빠른 동물의 아이디와 이름을 조회하는 SQL문을 작성해주세요. 이때 결과는 보호 시작일이 빠른 순으로 조회해야합니다."
   ]
  },
  {
   "cell_type": "markdown",
   "metadata": {},
   "source": [
    "SELECT O.animal_id, O.name <br>\n",
    "from animal_outs O join animal_ins I on O.animal_id = I.animal_id <br>\n",
    "where O.datetime < I.datetime <br>\n",
    "order by I.datetime"
   ]
  },
  {
   "cell_type": "markdown",
   "metadata": {},
   "source": [
    "#### 3. 오랜기간 보호한 동물(1)\n",
    "##### Q. 아직 입양을 못 간 동물 중, 가장 오래 보호소에 있었던 동물 3마리의 이름과 보호 시작일을 조회하는 SQL문을 작성해주세요.  <br> 이때 결과는 보호 시작일 순으로 조회해야 합니다."
   ]
  },
  {
   "cell_type": "markdown",
   "metadata": {},
   "source": [
    "SELECT I.name, I.datetime <br>\n",
    "from animal_ins I left join animal_outs O on I.animal_id = O.animal_id <br>\n",
    "where O.datetime is null <br>\n",
    "order by I.datetime limit 3"
   ]
  },
  {
   "cell_type": "markdown",
   "metadata": {},
   "source": [
    "#### 4. 보호소에서 중성화한 동물\n",
    "##### Q. 보호소에서 중성화 수술을 거친 동물 정보를 알아보려 합니다. <br> 보호소에 들어올 당시에는 중성화1되지 않았지만, 보호소를 나갈 당시에는 중성화된 동물의 아이디와 생물 종, 이름을 조회하는 아이디 순으로 조회하는 SQL 문을 작성해주세요."
   ]
  },
  {
   "cell_type": "markdown",
   "metadata": {},
   "source": [
    "SELECT O.animal_id, O.animal_type, O.name <br>\n",
    "from animal_outs O join animal_ins I on O.animal_id = I.animal_id <br>\n",
    "where I.sex_upon_intake like '%intact%' and (O.sex_upon_outcome like '%spayed%' or  O.sex_upon_outcome like '%Neutered%') <br>\n",
    "order by animal_id"
   ]
  }
 ],
 "metadata": {
  "language_info": {
   "name": "python"
  },
  "orig_nbformat": 4
 },
 "nbformat": 4,
 "nbformat_minor": 2
}
