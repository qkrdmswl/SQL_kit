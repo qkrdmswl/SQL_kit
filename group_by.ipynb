{
 "cells": [
  {
   "cell_type": "markdown",
   "metadata": {},
   "source": [
    "## 프로그래머스 SQL 고득점 KIT"
   ]
  },
  {
   "cell_type": "markdown",
   "metadata": {},
   "source": [
    "#### 1. 고양이와 강아지 수 출력"
   ]
  },
  {
   "cell_type": "markdown",
   "metadata": {},
   "source": [
    "SELECT ANIMAL_TYPE, count(ANIMAL_ID) as 'count' <br>\n",
    "from ANIMAL_INS <br>\n",
    "where ANIMAL_TYPE = 'Cat' or ANIMAL_TYPE = 'Dog' <br>\n",
    "group by ANIMAL_TYPE <br>\n",
    "order by ANIMAL_TYPE asc; "
   ]
  },
  {
   "cell_type": "markdown",
   "metadata": {},
   "source": [
    "#### 2. 동명 이름 수 구하기 "
   ]
  },
  {
   "cell_type": "markdown",
   "metadata": {},
   "source": [
    "SELECT NAME, count(ANIMAL_ID) as 'count' <br>\n",
    "from ANIMAL_INS <br>\n",
    "where not name is null <br>\n",
    "group by NAME <br>\n",
    "having count(NAME) > 1 <br>\n",
    "order by NAME asc; <br>"
   ]
  },
  {
   "cell_type": "markdown",
   "metadata": {},
   "source": [
    "#### 3. 입양 시간 구하기(1)\n",
    "보호소에서는 몇 시에 입양이 가장 활발하게 일어나는지 알아보려 합니다. <br>\n",
    "09:00부터 19:59까지, 각 시간대별로 입양이 몇 건이나 발생했는지 조회하는 SQL문을 작성해주세요. 이때 결과는 시간대 순으로 정렬해야 합니다. "
   ]
  },
  {
   "cell_type": "markdown",
   "metadata": {},
   "source": [
    "SELECT hour(datetime) as hour, count(*) as 'count' <br>\n",
    "from animal_outs <br>\n",
    "group by hour <br>\n",
    "HAVING HOUR >= 9 AND HOUR <20 <br>\n",
    "order by hour asc <br>"
   ]
  },
  {
   "cell_type": "markdown",
   "metadata": {},
   "source": [
    "#### 4. 입양 시간 구하기(2)"
   ]
  },
  {
   "cell_type": "markdown",
   "metadata": {},
   "source": [
    "보호소에서는 몇 시에 입양이 가장 활발하게 일어나는지 알아보려 합니다. <br>\n",
    "0시부터 23시까지, 각 시간대별로 입양이 몇 건이나 발생했는지 조회하는 SQL문을 작성해주세요. 이때 결과는 시간대 순으로 정렬해야 합니다."
   ]
  },
  {
   "cell_type": "markdown",
   "metadata": {},
   "source": [
    "-- 변수에 값 할당 <br>\n",
    "SET @hour = -1; <br>\n",
    "<br>\n",
    "-- SELECT (@hour := @hour +1) 은 @hour의 값에 1씩 증가시키면서 <br>\n",
    "-- SELECT 문 전체를 @hour < 23이 될 때까지 계속 실행된다.실행하게 된다. <br>\n",
    "<br>\n",
    "<br>\n",
    "SELECT (@hour := @hour + 1) as HOUR,<br>\n",
    "(SELECT COUNT(*) FROM ANIMAL_OUTS WHERE HOUR(DATETIME) = @hour) as COUNT<br>\n",
    "FROM ANIMAL_OUTS<br>\n",
    "WHERE @hour < 23"
   ]
  }
 ],
 "metadata": {
  "interpreter": {
   "hash": "2be5faf79681da6f2a61fdfdd5405d65d042280f7fba6178067603e3a2925119"
  },
  "kernelspec": {
   "display_name": "Python 3.10.1 64-bit",
   "language": "python",
   "name": "python3"
  },
  "language_info": {
   "codemirror_mode": {
    "name": "ipython",
    "version": 3
   },
   "file_extension": ".py",
   "mimetype": "text/x-python",
   "name": "python",
   "nbconvert_exporter": "python",
   "pygments_lexer": "ipython3",
   "version": "3.10.1"
  },
  "orig_nbformat": 4
 },
 "nbformat": 4,
 "nbformat_minor": 2
}
