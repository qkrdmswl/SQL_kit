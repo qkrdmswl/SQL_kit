{
 "cells": [
  {
   "cell_type": "markdown",
   "metadata": {},
   "source": [
    "### 프로그래머스 SQL 고득점 Kit - String, Date"
   ]
  },
  {
   "cell_type": "markdown",
   "metadata": {},
   "source": [
    "##### 1) Case 조건문 "
   ]
  },
  {
   "cell_type": "markdown",
   "metadata": {},
   "source": [
    "SELECT ANIMAL_ID, NAME, <br>\n",
    "CASE <br>\n",
    "    WHEN SEX_UPON_INTAKE LIKE \"%Intact%\" <br>\n",
    "    THEN 'X' <br>\n",
    "    Else 'O' <br>\n",
    "END as 중성화 <br>\n",
    "FROM ANIMAL_INS <br>\n",
    "ORDER BY ANIMAL_ID"
   ]
  },
  {
   "cell_type": "markdown",
   "metadata": {},
   "source": [
    "#####  2) IF 조건문 "
   ]
  },
  {
   "cell_type": "markdown",
   "metadata": {},
   "source": [
    "SELECT ANIMAL_ID, NAME, <br>\n",
    "IF (SEX_UPON_INTAKE LIKE '%Intact%' ,'X', 'O') as '중성화'<br>\n",
    "FROM ANIMAL_INS<br>\n",
    "ORDER BY ANIMAL_ID ASC;"
   ]
  },
  {
   "cell_type": "markdown",
   "metadata": {},
   "source": [
    "##### 3) Date"
   ]
  },
  {
   "cell_type": "markdown",
   "metadata": {},
   "source": [
    "SELECT ANIMAL_ID, NAME, DATE_FORMAT(DATETIME, '%Y-%m-%d') as 날짜 <br>\n",
    "FROM ANIMAL_INS <br>\n",
    "ORDER BY ANIMAL_ID ASC;"
   ]
  },
  {
   "cell_type": "markdown",
   "metadata": {},
   "source": [
    "https://velog.io/@jhlee508/%ED%94%84%EB%A1%9C%EA%B7%B8%EB%9E%98%EB%A8%B8%EC%8A%A4-SQL-%EA%B3%A0%EB%93%9D%EC%A0%90-Kit-String-Date "
   ]
  }
 ],
 "metadata": {
  "language_info": {
   "name": "python"
  },
  "orig_nbformat": 4
 },
 "nbformat": 4,
 "nbformat_minor": 2
}
